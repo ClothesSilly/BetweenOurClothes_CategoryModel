{
  "cells": [
    {
      "cell_type": "markdown",
      "metadata": {
        "id": "UYhpo2gw0QS3"
      },
      "source": [
        "# Multi-class classification using pytorch"
      ]
    },
    {
      "cell_type": "code",
      "source": [],
      "metadata": {
        "id": "0z8Lsuii5A2E"
      },
      "execution_count": null,
      "outputs": []
    },
    {
      "cell_type": "markdown",
      "metadata": {
        "id": "ny9dv0lK0QS4"
      },
      "source": [
        "## import library"
      ]
    },
    {
      "cell_type": "code",
      "execution_count": null,
      "metadata": {
        "id": "AmfNz9Yv0QS4"
      },
      "outputs": [],
      "source": [
        "import torch\n",
        "import torch.nn as nn\n",
        "import torch.nn.functional as F\n",
        "import torchvision\n",
        "from torch.utils.data import Dataset\n",
        "from torchvision import datasets, transforms\n",
        "import torchvision.transforms.functional as F2\n",
        "import numpy as np\n",
        "import matplotlib.pyplot as plt\n",
        "import math\n",
        "from tqdm import tqdm\n",
        "import random\n",
        "import os"
      ]
    },
    {
      "cell_type": "markdown",
      "metadata": {
        "id": "pa8MnyrY0QS5"
      },
      "source": [
        "## load data"
      ]
    },
    {
      "cell_type": "code",
      "execution_count": null,
      "metadata": {
        "id": "tOHD0ngw0QS5"
      },
      "outputs": [],
      "source": [
        "directory_data  = './sample_data'\n",
        "filename_data   = 'assignment_06_data.npz'\n",
        "data            = np.load(os.path.join(directory_data, filename_data))\n",
        "\n",
        "x_train = data['x_train']\n",
        "y_train = data['y_train']\n",
        "\n",
        "x_test  = data['x_test']\n",
        "y_test  = data['y_test']\n",
        "\n",
        "num_data_train  = x_train.shape[0]\n",
        "num_data_test   = x_test.shape[0]"
      ]
    },
    {
      "cell_type": "code",
      "execution_count": null,
      "metadata": {
        "colab": {
          "base_uri": "https://localhost:8080/"
        },
        "id": "Ziy1L3hH0QS5",
        "outputId": "e02241d2-b42e-452c-ddcc-000ef085f1f2"
      },
      "outputs": [
        {
          "output_type": "stream",
          "name": "stdout",
          "text": [
            "*************************************************\n",
            "size of x_train : (20000, 32, 32)\n",
            "size of y_train : (20000,)\n",
            "*************************************************\n",
            "size of x_test : (8000, 32, 32)\n",
            "size of y_test : (8000,)\n",
            "*************************************************\n",
            "number of training image : 20000\n",
            "height of training image : 32\n",
            "width of training image : 32\n",
            "*************************************************\n",
            "number of testing image : 8000\n",
            "height of testing image : 32\n",
            "width of testing image : 32\n",
            "*************************************************\n"
          ]
        }
      ],
      "source": [
        "print('*************************************************')\n",
        "print('size of x_train :', x_train.shape)\n",
        "print('size of y_train :', y_train.shape)\n",
        "print('*************************************************')\n",
        "print('size of x_test :', x_test.shape)\n",
        "print('size of y_test :', y_test.shape)\n",
        "print('*************************************************')\n",
        "print('number of training image :', x_train.shape[0])\n",
        "print('height of training image :', x_train.shape[1])\n",
        "print('width of training image :', x_train.shape[2])\n",
        "print('*************************************************')\n",
        "print('number of testing image :', x_test.shape[0])\n",
        "print('height of testing image :', x_test.shape[1])\n",
        "print('width of testing image :', x_test.shape[2])\n",
        "print('*************************************************')"
      ]
    },
    {
      "cell_type": "code",
      "source": [
        "for i in x_train[0]:\n",
        "  print(\"[\")\n",
        "  for j in i:\n",
        "    print(j if j != 0 else 0, \",\", end=\" \")\n",
        "  print(\"],\")"
      ],
      "metadata": {
        "colab": {
          "base_uri": "https://localhost:8080/"
        },
        "id": "51KYDKvjhYeO",
        "outputId": "c96b5e88-7828-4377-a0df-208c2802a8d9"
      },
      "execution_count": null,
      "outputs": [
        {
          "output_type": "stream",
          "name": "stdout",
          "text": [
            "[\n",
            "0 , 0 , 0 , 0 , 0 , 0 , 0 , 0 , 0 , 0 , 0 , 0 , 0 , 0 , 0 , 0 , 0 , 0 , 0 , 0 , 0 , 0 , 0 , 0 , 0 , 0 , 0 , 0 , 0 , 0 , 0 , 0 , ],\n",
            "[\n",
            "0 , 0 , 0 , 0 , 0 , 0 , 0 , 0 , 0 , 0 , 0 , 0 , 0 , 0 , 0 , 0 , 0 , 0 , 0 , 0 , 0 , 0 , 0 , 0 , 0 , 0 , 0 , 0 , 0 , 0 , 0 , 0 , ],\n",
            "[\n",
            "0 , 0 , 0 , 0 , 0 , 0 , 0 , 0 , 0 , 0 , 0 , 0 , 0 , 0 , 0 , 0 , 0 , 0 , 0 , 0 , 0 , 0 , 0 , 0 , 0 , 0 , 0 , 0 , 0 , 0 , 0 , 0 , ],\n",
            "[\n",
            "0 , 0 , 0 , 0 , 0 , 0 , 0 , 0 , 0 , 0 , 0 , 0 , 0 , 0 , 0 , 0 , 0 , 0 , 0 , 0 , 0 , 0 , 0 , 0 , 0 , 0 , 0 , 0 , 0 , 0 , 0 , 0 , ],\n",
            "[\n",
            "0 , 0 , 0 , 0 , 0 , 0 , 0 , 0 , 0 , 0 , 0 , 0 , 0 , 0 , 0 , 0 , 0 , 0.07109375 , 0.21488972 , 0.36351103 , 0.36351103 , 0.21435356 , 0.06969976 , 0 , 0 , 0 , 0 , 0 , 0 , 0 , 0 , 0 , ],\n",
            "[\n",
            "0 , 0 , 0 , 0 , 0 , 0 , 0 , 0 , 0 , 0 , 0 , 0 , 0 , 0 , 0 , 0.0036764706 , 0.05514706 , 0.35972732 , 0.6411458 , 0.8800551 , 0.8800551 , 0.63992035 , 0.34551165 , 0 , 0 , 0 , 0 , 0 , 0 , 0 , 0 , 0 , ],\n",
            "[\n",
            "0 , 0 , 0 , 0 , 0 , 0 , 0 , 0 , 0 , 0 , 0 , 0 , 0 , 0 , 0.007444853 , 0.057215076 , 0.30234376 , 0.82726717 , 0.97452515 , 0.9828585 , 0.9767463 , 0.9636949 , 0.77196693 , 0.039568014 , 0.006755515 , 0.0008272059 , 0 , 0 , 0 , 0 , 0 , 0 , ],\n",
            "[\n",
            "0 , 0 , 0 , 0 , 0 , 0 , 0 , 0 , 0 , 0 , 0 , 0 , 0.001072304 , 0.0062806373 , 0.059466913 , 0.29361212 , 0.85614276 , 0.9741881 , 0.98946077 , 0.9544577 , 0.90588236 , 0.9119026 , 0.8538603 , 0.25784314 , 0.06568628 , 0.009742647 , 0 , 0 , 0 , 0 , 0 , 0 , ],\n",
            "[\n",
            "0 , 0 , 0 , 0 , 0 , 0 , 0 , 0 , 0 , 0 , 0 , 0 , 0.01608456 , 0.09420956 , 0.33612132 , 0.8458487 , 0.9730239 , 0.9902727 , 0.98946077 , 0.8830423 , 0.61078435 , 0.5604014 , 0.97996324 , 0.9132353 , 0.48088235 , 0.084375 , 0 , 0 , 0 , 0 , 0 , 0 , ],\n",
            "[\n",
            "0 , 0 , 0 , 0 , 0 , 0 , 0 , 0 , 0 , 0 , 0 , 0 , 0.23043811 , 0.62682295 , 0.86966914 , 0.9689338 , 0.98694855 , 0.9914216 , 0.98946077 , 0.96755517 , 0.6960478 , 0.49885112 , 0.8258732 , 0.9690104 , 0.64496017 , 0.116590075 , 0 , 0 , 0 , 0 , 0 , 0 , ],\n",
            "[\n",
            "0 , 0 , 0 , 0 , 0 , 0 , 0 , 0 , 0 , 0 , 0 , 0.077343754 , 0.44546568 , 0.88814336 , 0.9909314 , 0.98031557 , 0.83169425 , 0.6555913 , 0.87420344 , 0.9530178 , 0.626394 , 0.30693933 , 0.54828435 , 0.9763021 , 0.678845 , 0.123299636 , 0 , 0 , 0 , 0 , 0 , 0 , ],\n",
            "[\n",
            "0 , 0 , 0 , 0 , 0 , 0 , 0 , 0 , 0 , 0 , 0.07279412 , 0.39085478 , 0.7663756 , 0.972258 , 0.959758 , 0.7991422 , 0.3822304 , 0.35942096 , 0.5947457 , 0.5527727 , 0.28137255 , 0.09779412 , 0.2967984 , 0.9848805 , 0.83497244 , 0.2441636 , 0.03446691 , 0 , 0 , 0 , 0 , 0 , ],\n",
            "[\n",
            "0 , 0 , 0 , 0 , 0 , 0 , 0 , 0 , 0 , 0.052971818 , 0.28779107 , 0.70965075 , 0.9575674 , 0.94223344 , 0.8426624 , 0.50693935 , 0.05850184 , 0.1393842 , 0.23520221 , 0.14283088 , 0.026056986 , 0 , 0.1860294 , 0.990671 , 0.96986824 , 0.50119483 , 0.12293199 , 0 , 0 , 0 , 0 , 0 , ],\n",
            "[\n",
            "0 , 0 , 0 , 0 , 0 , 0 , 0 , 0.000536152 , 0.00804228 , 0.2620864 , 0.61833644 , 0.8788603 , 0.86202514 , 0.6742188 , 0.5234528 , 0.2444853 , 0.01629902 , 0 , 0 , 0 , 0 , 0 , 0.1860294 , 0.99191177 , 0.9884804 , 0.74090075 , 0.21369486 , 0 , 0 , 0 , 0 , 0 , ],\n",
            "[\n",
            "0 , 0 , 0 , 0 , 0 , 0 , 0 , 0.0040134806 , 0.060202207 , 0.6234069 , 0.9145527 , 0.888557 , 0.5551777 , 0.17444853 , 0.065916054 , 0.0836397 , 0.0055759805 , 0 , 0 , 0 , 0 , 0 , 0.1860294 , 0.99191177 , 0.9884804 , 0.8066177 , 0.2389706 , 0 , 0 , 0 , 0 , 0 , ],\n",
            "[\n",
            "0 , 0 , 0 , 0 , 0 , 0 , 0 , 0.016130514 , 0.24195772 , 0.85153186 , 0.97786456 , 0.55598956 , 0.13028492 , 0 , 0 , 0 , 0 , 0 , 0 , 0 , 0 , 0 , 0.18612133 , 0.99238664 , 0.9887408 , 0.8068628 , 0.23904718 , 0 , 0 , 0 , 0 , 0 , ],\n",
            "[\n",
            "0 , 0 , 0 , 0 , 0 , 0 , 0 , 0.046369486 , 0.6955423 , 0.94503677 , 0.8326746 , 0.34131435 , 0.0086856615 , 0 , 0 , 0 , 0 , 0 , 0 , 0 , 0 , 0 , 0.18740809 , 0.99903494 , 0.99238664 , 0.81029415 , 0.24011949 , 0 , 0 , 0 , 0 , 0 , ],\n",
            "[\n",
            "0 , 0 , 0 , 0 , 0 , 0 , 0.04540441 , 0.2851103 , 0.88645834 , 0.9778033 , 0.65044427 , 0.21724878 , 0 , 0 , 0 , 0 , 0 , 0 , 0 , 0 , 0 , 0 , 0.18630515 , 0.9933364 , 0.9892616 , 0.6856771 , 0.19240198 , 0 , 0 , 0 , 0 , 0 , ],\n",
            "[\n",
            "0 , 0 , 0 , 0 , 0 , 0 , 0.060431987 , 0.36346507 , 0.9397212 , 0.9386642 , 0.4309896 , 0.08953738 , 0 , 0 , 0 , 0 , 0 , 0 , 0 , 0 , 0.00825674 , 0.12671569 , 0.48175552 , 0.98079044 , 0.8216606 , 0.32558212 , 0.06678922 , 0 , 0 , 0 , 0 , 0 , ],\n",
            "[\n",
            "0 , 0 , 0 , 0 , 0 , 0 , 0.0625 , 0.37426472 , 0.94730395 , 0.9055913 , 0.30652574 , 0.01876532 , 0 , 0 , 0 , 0 , 0 , 0 , 0 , 0.0086856615 , 0.14036459 , 0.45301777 , 0.8142923 , 0.9019761 , 0.50415134 , 0.10592831 , 0.0064338236 , 0 , 0 , 0 , 0 , 0 , ],\n",
            "[\n",
            "0 , 0 , 0 , 0 , 0 , 0 , 0.0625 , 0.37426472 , 0.94730395 , 0.78710175 , 0.23146446 , 0 , 0 , 0 , 0 , 0 , 0 , 0 , 0.056617647 , 0.20395221 , 0.48350185 , 0.76237744 , 0.7858762 , 0.4750919 , 0.17784928 , 0.02936581 , 0 , 0 , 0 , 0 , 0 , 0 , ],\n",
            "[\n",
            "0 , 0 , 0 , 0 , 0 , 0 , 0.06272978 , 0.37549022 , 0.9485294 , 0.72719055 , 0.20833334 , 0 , 0 , 0 , 0 , 0 , 0 , 0.11351103 , 0.33314952 , 0.6088542 , 0.8087316 , 0.7493413 , 0.37896752 , 0 , 0 , 0 , 0 , 0 , 0 , 0 , 0 , 0 , ],\n",
            "[\n",
            "0 , 0 , 0 , 0 , 0 , 0 , 0.063097425 , 0.377451 , 0.9504902 , 0.91714156 , 0.35505515 , 0.066819854 , 0.029181985 , 0.034191176 , 0.0753217 , 0.13304228 , 0.16328125 , 0.47729778 , 0.80572915 , 0.92602634 , 0.7663603 , 0.38318017 , 0 , 0 , 0 , 0 , 0 , 0 , 0 , 0 , 0 , 0 , ],\n",
            "[\n",
            "0 , 0 , 0 , 0 , 0 , 0 , 0.0625 , 0.37426472 , 0.94730395 , 0.9792739 , 0.71686584 , 0.392693 , 0.20053616 , 0.22648591 , 0.43837318 , 0.7269761 , 0.87817097 , 0.9614583 , 0.89123774 , 0.7179841 , 0.435432 , 0.14154412 , 0 , 0 , 0 , 0 , 0 , 0 , 0 , 0 , 0 , 0 , ],\n",
            "[\n",
            "0 , 0 , 0 , 0 , 0 , 0 , 0.0625 , 0.37426472 , 0.94730395 , 0.9876379 , 0.970144 , 0.90117955 , 0.8291207 , 0.8443474 , 0.95157784 , 0.97081804 , 0.98089767 , 0.8199142 , 0.6107231 , 0.25603557 , 0.0290288 , 0.009436275 , 0 , 0 , 0 , 0 , 0 , 0 , 0 , 0 , 0 , 0 , ],\n",
            "[\n",
            "0 , 0 , 0 , 0 , 0 , 0 , 0.028446691 , 0.19344363 , 0.7776348 , 0.9565717 , 0.9882353 , 0.9805147 , 0.96861213 , 0.96953124 , 0.9768842 , 0.91017157 , 0.6648285 , 0.23846509 , 0.11075368 , 0.041819856 , 0 , 0 , 0 , 0 , 0 , 0 , 0 , 0 , 0 , 0 , 0 , 0 , ],\n",
            "[\n",
            "0 , 0 , 0 , 0 , 0 , 0 , 0.0064338236 , 0.051623777 , 0.29396448 , 0.58967525 , 0.88376224 , 0.9904412 , 0.9904412 , 0.8947151 , 0.63203126 , 0.37231925 , 0.19067097 , 0.033318017 , 0 , 0 , 0 , 0 , 0 , 0 , 0 , 0 , 0 , 0 , 0 , 0 , 0 , 0 , ],\n",
            "[\n",
            "0 , 0 , 0 , 0 , 0 , 0 , 0 , 0.0026807599 , 0.0402114 , 0.18647367 , 0.3658701 , 0.43331802 , 0.43331802 , 0.37284008 , 0.20845589 , 0.05951287 , 0.0039675245 , 0 , 0 , 0 , 0 , 0 , 0 , 0 , 0 , 0 , 0 , 0 , 0 , 0 , 0 , 0 , ],\n",
            "[\n",
            "0 , 0 , 0 , 0 , 0 , 0 , 0 , 0 , 0 , 0 , 0 , 0 , 0 , 0 , 0 , 0 , 0 , 0 , 0 , 0 , 0 , 0 , 0 , 0 , 0 , 0 , 0 , 0 , 0 , 0 , 0 , 0 , ],\n",
            "[\n",
            "0 , 0 , 0 , 0 , 0 , 0 , 0 , 0 , 0 , 0 , 0 , 0 , 0 , 0 , 0 , 0 , 0 , 0 , 0 , 0 , 0 , 0 , 0 , 0 , 0 , 0 , 0 , 0 , 0 , 0 , 0 , 0 , ],\n",
            "[\n",
            "0 , 0 , 0 , 0 , 0 , 0 , 0 , 0 , 0 , 0 , 0 , 0 , 0 , 0 , 0 , 0 , 0 , 0 , 0 , 0 , 0 , 0 , 0 , 0 , 0 , 0 , 0 , 0 , 0 , 0 , 0 , 0 , ],\n",
            "[\n",
            "0 , 0 , 0 , 0 , 0 , 0 , 0 , 0 , 0 , 0 , 0 , 0 , 0 , 0 , 0 , 0 , 0 , 0 , 0 , 0 , 0 , 0 , 0 , 0 , 0 , 0 , 0 , 0 , 0 , 0 , 0 , 0 , ],\n"
          ]
        }
      ]
    },
    {
      "cell_type": "markdown",
      "metadata": {
        "id": "U29V2iNL0QS6"
      },
      "source": [
        "## number of classes"
      ]
    },
    {
      "cell_type": "code",
      "execution_count": null,
      "metadata": {
        "colab": {
          "base_uri": "https://localhost:8080/"
        },
        "id": "jwzDSOGS0QS6",
        "outputId": "a7e5c7c3-8550-4362-f64e-b774c9e94860"
      },
      "outputs": [
        {
          "output_type": "stream",
          "name": "stdout",
          "text": [
            "*************************************************\n",
            "number of classes : 10\n",
            "*************************************************\n"
          ]
        }
      ],
      "source": [
        "print('*************************************************')\n",
        "print('number of classes :', len(set(y_train)))\n",
        "print('*************************************************')"
      ]
    },
    {
      "cell_type": "markdown",
      "metadata": {
        "id": "Nm8RyxaK0QS7"
      },
      "source": [
        "## custom data loader for the PyTorch framework"
      ]
    },
    {
      "cell_type": "code",
      "execution_count": null,
      "metadata": {
        "id": "RttVv2-c0QS7"
      },
      "outputs": [],
      "source": [
        "class dataset(Dataset):\n",
        "    \n",
        "    def __init__(self, image, label):\n",
        "        \n",
        "        self.image  = image\n",
        "        self.label  = label.astype(int)\n",
        "    \n",
        "    def __getitem__(self, index):\n",
        "        \n",
        "        image   = self.image[index, :, :]\n",
        "        label   = self.label[index, ]\n",
        "\n",
        "        image   = torch.FloatTensor(image).unsqueeze(dim=0)\n",
        "        label   = torch.LongTensor([label])\n",
        "\n",
        "        return image, label\n",
        "    \n",
        "    def __len__(self):\n",
        "        \n",
        "        return self.image.shape[0]\n",
        "\n",
        "    def collate_fn(self, batch):\n",
        "        images  = list()\n",
        "        labels  = list()\n",
        "\n",
        "        for b in batch:\n",
        "            images.append(b[0])\n",
        "            labels.append(b[1])\n",
        "\n",
        "        images  = torch.stack(images, dim=0)\n",
        "        labels  = torch.stack(labels, dim=0).squeeze()\n",
        "\n",
        "        return images, labels"
      ]
    },
    {
      "cell_type": "markdown",
      "metadata": {
        "id": "xKcC5IDv0QS7"
      },
      "source": [
        "## setting device (cpu or gpu)"
      ]
    },
    {
      "cell_type": "code",
      "execution_count": null,
      "metadata": {
        "id": "eo93A6K40QS7"
      },
      "outputs": [],
      "source": [
        "device = torch.device('cuda' if torch.cuda.is_available() else 'cpu')"
      ]
    },
    {
      "cell_type": "code",
      "execution_count": null,
      "metadata": {
        "colab": {
          "base_uri": "https://localhost:8080/"
        },
        "id": "J8Xl9XN50QS8",
        "outputId": "c08359af-3c6c-4d48-949a-20f0f1c28302"
      },
      "outputs": [
        {
          "output_type": "stream",
          "name": "stdout",
          "text": [
            "cpu\n",
            "<class 'torch.device'>\n"
          ]
        }
      ],
      "source": [
        "print(device)\n",
        "print(type(device))"
      ]
    },
    {
      "cell_type": "markdown",
      "metadata": {
        "id": "54ZG-1Jt0QS8"
      },
      "source": [
        "## construct datasets and dataloaders for training and testing"
      ]
    },
    {
      "cell_type": "code",
      "execution_count": null,
      "metadata": {
        "colab": {
          "base_uri": "https://localhost:8080/"
        },
        "id": "8_JiR2q90QS8",
        "outputId": "ed9c8b62-2b46-4c32-c4bd-daca5ae8b37a"
      },
      "outputs": [
        {
          "output_type": "stream",
          "name": "stdout",
          "text": [
            "x,y train type:  <class 'numpy.ndarray'>\n",
            "dataset() type:  <class '__main__.dataset'>\n",
            "dataloader_train type :  <class 'torch.utils.data.dataloader.DataLoader'>\n"
          ]
        }
      ],
      "source": [
        "# ================================================== \n",
        "# determine the value of the following parameter\n",
        "#\n",
        "size_minibatch      = 200\n",
        "#\n",
        "# ================================================== \n",
        "print(\"x,y train type: \", type(x_train))\n",
        "dataset_train       = dataset(x_train, y_train)\n",
        "dataset_test        = dataset(x_test, y_test)\n",
        "print(\"dataset() type: \", type(dataset_train))\n",
        "\n",
        "dataloader_train    = torch.utils.data.DataLoader(dataset_train, batch_size=size_minibatch, shuffle=True, drop_last=True, collate_fn=dataset_train.collate_fn)\n",
        "dataloader_test     = torch.utils.data.DataLoader(dataset_test, batch_size=size_minibatch, shuffle=True, drop_last=True, collate_fn=dataset_test.collate_fn)\n",
        "print(\"dataloader_train type : \", type(dataloader_train))"
      ]
    },
    {
      "cell_type": "markdown",
      "metadata": {
        "id": "mRnV4HMZ0QS8"
      },
      "source": [
        "## shape of the data when using the data loader"
      ]
    },
    {
      "cell_type": "code",
      "execution_count": null,
      "metadata": {
        "id": "fPz9v3cC0QS8"
      },
      "outputs": [],
      "source": [
        "image, label    = next(iter(dataloader_train))"
      ]
    },
    {
      "cell_type": "code",
      "execution_count": null,
      "metadata": {
        "colab": {
          "base_uri": "https://localhost:8080/"
        },
        "id": "feDV47CW0QS8",
        "outputId": "4a4dd094-f435-4cfb-89d9-c7d897f6ca1b"
      },
      "outputs": [
        {
          "output_type": "stream",
          "name": "stdout",
          "text": [
            "************************************************************\n",
            "size of mini-batch of the image: torch.Size([200, 1, 32, 32])\n",
            "************************************************************\n",
            "size of mini-batch of the label: torch.Size([200])\n",
            "************************************************************\n"
          ]
        }
      ],
      "source": [
        "print('************************************************************')\n",
        "print('size of mini-batch of the image:', image.shape)\n",
        "print('************************************************************')\n",
        "print('size of mini-batch of the label:', label.shape)\n",
        "print('************************************************************')"
      ]
    },
    {
      "cell_type": "markdown",
      "metadata": {
        "id": "N5xmjVMS0QS9"
      },
      "source": [
        "## construct a neural network "
      ]
    },
    {
      "cell_type": "code",
      "execution_count": null,
      "metadata": {
        "id": "-ulkyxR80QS9"
      },
      "outputs": [],
      "source": [
        "# ================================================== \n",
        "# define the neural network architecture\n",
        "#\n",
        "class Classifier(nn.Module):\n",
        "    def __init__(self):\n",
        "        super(Classifier, self).__init__()\n",
        "\n",
        "        self.feature    = nn.Sequential(\n",
        "            nn.Conv2d(in_channels=1, out_channels=2, kernel_size=3, stride=1, padding=1, bias=True),\n",
        "            nn.MaxPool2d(kernel_size=2, stride=2),\n",
        "            nn.ReLU(),\n",
        "\n",
        "            nn.Conv2d(in_channels=2, out_channels=4, kernel_size=3, stride=1, padding=1, bias=True),\n",
        "            nn.MaxPool2d(kernel_size=2, stride=2),\n",
        "            nn.ReLU(),\n",
        "\n",
        "            nn.Conv2d(in_channels=4, out_channels=8, kernel_size=3, stride=1, padding=1, bias=True),\n",
        "            nn.MaxPool2d(kernel_size=2, stride=2),\n",
        "            nn.ReLU(),\n",
        "\n",
        "            nn.Conv2d(in_channels=8, out_channels=16, kernel_size=3, stride=1, padding=1, bias=True),\n",
        "            nn.MaxPool2d(kernel_size=2, stride=2),\n",
        "            nn.ReLU(),\n",
        "\n",
        "            nn.Conv2d(in_channels=16, out_channels=32, kernel_size=3, stride=1, padding=1, bias=True),\n",
        "            nn.MaxPool2d(kernel_size=2, stride=2),\n",
        "            nn.ReLU(),\n",
        "        )\n",
        "\n",
        "        self.classifier = nn.Sequential(\n",
        "            nn.Linear(32, 16, bias=True),\n",
        "            nn.ReLU(),\n",
        "            nn.Linear(16, 10, bias=True),\n",
        "        )\n",
        "\n",
        "        self.network    = nn.Sequential(\n",
        "            self.feature,\n",
        "            nn.Flatten(),\n",
        "            self.classifier,\n",
        "        )\n",
        "\n",
        "        self.initialize()\n",
        "\n",
        "\n",
        "    def initialize(self):\n",
        "\n",
        "        for m in self.network.modules():\n",
        "\n",
        "            if isinstance(m, nn.Conv2d):\n",
        "\n",
        "                #nn.init.constant_(m.weight, 0.01)\n",
        "                nn.init.xavier_uniform_(m.weight)\n",
        "                nn.init.constant_(m.bias, 1)\n",
        "\n",
        "            elif isinstance(m, nn.Linear):\n",
        "    \n",
        "                #nn.init.constant_(m.weight, 0.01)\n",
        "                nn.init.xavier_uniform_(m.weight)\n",
        "                nn.init.constant_(m.bias, 1)\n",
        "\n",
        "\n",
        "    def forward(self, input):\n",
        "\n",
        "        output = self.network(input)\n",
        "\n",
        "        return output\n",
        "#\n",
        "# ================================================== "
      ]
    },
    {
      "cell_type": "code",
      "source": [
        "# #### My Test ####\n",
        "# csfr = Classifier()\n",
        "# print(type(csfr))\n",
        "# otp = csfr.forward(image)\n",
        "# print(type(otp))\n",
        "# print(otp.shape)\n",
        "# # print(label.reshape(1, 100).shape)\n",
        "# # d = F.one_hot(label, num_classes=10)\n",
        "# cel = nn.CrossEntropyLoss()\n",
        "# myTest_loss = cel(otp, label)\n",
        "# print(myTest_loss)\n",
        "\n",
        "# loss_value = myTest_loss.item()\n",
        "# print(loss_value)\n",
        "# print(\"loss_value type : \", type(loss_value))\n",
        "\n",
        "# ### argmax ###\n",
        "# # print(otp)\n",
        "# argmax_otp = torch.argmax(otp, dim=1)\n",
        "# print(argmax_otp)\n",
        "# print(label)\n",
        "# print( argmax_otp == label)\n",
        "# print(sum(argmax_otp == label))\n",
        "# print(label.shape)\n",
        "# print(\"len = \", len(label))\n",
        "# print(type(label.size(dim=0)))"
      ],
      "metadata": {
        "id": "jJWg5-j_HQmv"
      },
      "execution_count": null,
      "outputs": []
    },
    {
      "cell_type": "markdown",
      "metadata": {
        "id": "MqepuNjx0QS9"
      },
      "source": [
        "## build network"
      ]
    },
    {
      "cell_type": "code",
      "execution_count": null,
      "metadata": {
        "id": "twi4-yCs0QS9"
      },
      "outputs": [],
      "source": [
        "# ================================================== \n",
        "# determine the value of the following parameter\n",
        "#\n",
        "learning_rate   = 0.05\n",
        "weight_decay    = 0.001\n",
        "#\n",
        "# ================================================== \n",
        "\n",
        "classifier      = Classifier().to(device)\n",
        "optimizer       = torch.optim.SGD(classifier.parameters(), lr=learning_rate, weight_decay=weight_decay)"
      ]
    },
    {
      "cell_type": "code",
      "execution_count": null,
      "metadata": {
        "colab": {
          "base_uri": "https://localhost:8080/"
        },
        "id": "0eNEe8Qf0QS9",
        "outputId": "10794f18-bd8c-4540-f965-be477389045c"
      },
      "outputs": [
        {
          "output_type": "stream",
          "name": "stdout",
          "text": [
            "Classifier(\n",
            "  (feature): Sequential(\n",
            "    (0): Conv2d(1, 2, kernel_size=(3, 3), stride=(1, 1), padding=(1, 1))\n",
            "    (1): MaxPool2d(kernel_size=2, stride=2, padding=0, dilation=1, ceil_mode=False)\n",
            "    (2): ReLU()\n",
            "    (3): Conv2d(2, 4, kernel_size=(3, 3), stride=(1, 1), padding=(1, 1))\n",
            "    (4): MaxPool2d(kernel_size=2, stride=2, padding=0, dilation=1, ceil_mode=False)\n",
            "    (5): ReLU()\n",
            "    (6): Conv2d(4, 8, kernel_size=(3, 3), stride=(1, 1), padding=(1, 1))\n",
            "    (7): MaxPool2d(kernel_size=2, stride=2, padding=0, dilation=1, ceil_mode=False)\n",
            "    (8): ReLU()\n",
            "    (9): Conv2d(8, 16, kernel_size=(3, 3), stride=(1, 1), padding=(1, 1))\n",
            "    (10): MaxPool2d(kernel_size=2, stride=2, padding=0, dilation=1, ceil_mode=False)\n",
            "    (11): ReLU()\n",
            "    (12): Conv2d(16, 32, kernel_size=(3, 3), stride=(1, 1), padding=(1, 1))\n",
            "    (13): MaxPool2d(kernel_size=2, stride=2, padding=0, dilation=1, ceil_mode=False)\n",
            "    (14): ReLU()\n",
            "  )\n",
            "  (classifier): Sequential(\n",
            "    (0): Linear(in_features=32, out_features=16, bias=True)\n",
            "    (1): ReLU()\n",
            "    (2): Linear(in_features=16, out_features=10, bias=True)\n",
            "  )\n",
            "  (network): Sequential(\n",
            "    (0): Sequential(\n",
            "      (0): Conv2d(1, 2, kernel_size=(3, 3), stride=(1, 1), padding=(1, 1))\n",
            "      (1): MaxPool2d(kernel_size=2, stride=2, padding=0, dilation=1, ceil_mode=False)\n",
            "      (2): ReLU()\n",
            "      (3): Conv2d(2, 4, kernel_size=(3, 3), stride=(1, 1), padding=(1, 1))\n",
            "      (4): MaxPool2d(kernel_size=2, stride=2, padding=0, dilation=1, ceil_mode=False)\n",
            "      (5): ReLU()\n",
            "      (6): Conv2d(4, 8, kernel_size=(3, 3), stride=(1, 1), padding=(1, 1))\n",
            "      (7): MaxPool2d(kernel_size=2, stride=2, padding=0, dilation=1, ceil_mode=False)\n",
            "      (8): ReLU()\n",
            "      (9): Conv2d(8, 16, kernel_size=(3, 3), stride=(1, 1), padding=(1, 1))\n",
            "      (10): MaxPool2d(kernel_size=2, stride=2, padding=0, dilation=1, ceil_mode=False)\n",
            "      (11): ReLU()\n",
            "      (12): Conv2d(16, 32, kernel_size=(3, 3), stride=(1, 1), padding=(1, 1))\n",
            "      (13): MaxPool2d(kernel_size=2, stride=2, padding=0, dilation=1, ceil_mode=False)\n",
            "      (14): ReLU()\n",
            "    )\n",
            "    (1): Flatten(start_dim=1, end_dim=-1)\n",
            "    (2): Sequential(\n",
            "      (0): Linear(in_features=32, out_features=16, bias=True)\n",
            "      (1): ReLU()\n",
            "      (2): Linear(in_features=16, out_features=10, bias=True)\n",
            "    )\n",
            "  )\n",
            ")\n"
          ]
        }
      ],
      "source": [
        "print(classifier)"
      ]
    },
    {
      "cell_type": "markdown",
      "metadata": {
        "id": "gpa3cJjw0QS-"
      },
      "source": [
        "## compute the prediction"
      ]
    },
    {
      "cell_type": "code",
      "execution_count": null,
      "metadata": {
        "id": "aG9N4p9Q0QS-"
      },
      "outputs": [],
      "source": [
        "def compute_prediction(model, input):\n",
        "\n",
        "# ================================================== \n",
        "# fill up the blank\n",
        "# \n",
        "    prediction = model.forward(input)\n",
        "    \n",
        "#\n",
        "# ================================================== \n",
        "\n",
        "    return prediction"
      ]
    },
    {
      "cell_type": "markdown",
      "metadata": {
        "id": "X0Uz-8D10QS-"
      },
      "source": [
        "## compute the loss\n",
        "- use `CrossEntropyLoss`\n",
        "- compute loss and its value (`loss.item()`)"
      ]
    },
    {
      "cell_type": "code",
      "execution_count": null,
      "metadata": {
        "id": "2WMkPBPQ0QS-"
      },
      "outputs": [],
      "source": [
        "def compute_loss(prediction, label):\n",
        "\n",
        "# ================================================== \n",
        "# fill up the blank\n",
        "#    \n",
        " \n",
        "    loss_fn = nn.CrossEntropyLoss()\n",
        "    loss = loss_fn(prediction, label)\n",
        "\n",
        "#\n",
        "# ================================================== \n",
        "\n",
        "    return loss"
      ]
    },
    {
      "cell_type": "markdown",
      "metadata": {
        "id": "oq4TPsye0QS-"
      },
      "source": [
        "## compute the loss value"
      ]
    },
    {
      "cell_type": "code",
      "execution_count": null,
      "metadata": {
        "id": "7EZ8dC-J0QS-"
      },
      "outputs": [],
      "source": [
        "def compute_loss_value(loss):\n",
        "    \n",
        "    loss_value = loss.item()\n",
        "    \n",
        "    return loss_value"
      ]
    },
    {
      "cell_type": "markdown",
      "metadata": {
        "id": "KF9i0mH-0QS_"
      },
      "source": [
        "## compute the accuracy\n",
        "- accuracy in percentile : 0 - 100 (%)"
      ]
    },
    {
      "cell_type": "code",
      "execution_count": null,
      "metadata": {
        "id": "TefUztWa0QS_"
      },
      "outputs": [],
      "source": [
        "def compute_accuracy(prediction, label):\n",
        "\n",
        "# ================================================== \n",
        "# fill up the blank\n",
        "#         \n",
        "    argmax_pred = torch.argmax(prediction, dim=1)\n",
        "    \n",
        "    accuracy = sum(argmax_pred == label) / label.size(dim=0)\n",
        "\n",
        "#\n",
        "# ================================================== \n",
        "\n",
        "    return accuracy"
      ]
    },
    {
      "cell_type": "markdown",
      "metadata": {
        "id": "40gCqpHV0QS_"
      },
      "source": [
        "## variables for the learning curve"
      ]
    },
    {
      "cell_type": "code",
      "execution_count": null,
      "metadata": {
        "id": "chRbMIYA0QS_"
      },
      "outputs": [],
      "source": [
        "# ================================================== \n",
        "# determine the value of the following parameter\n",
        "#\n",
        "number_epoch        = 55\n",
        "#\n",
        "# ================================================== \n",
        "\n",
        "loss_train_mean     = np.zeros(number_epoch)\n",
        "loss_train_std      = np.zeros(number_epoch)\n",
        "accuracy_train_mean = np.zeros(number_epoch)\n",
        "accuracy_train_std  = np.zeros(number_epoch)\n",
        "\n",
        "loss_test_mean      = np.zeros(number_epoch)\n",
        "loss_test_std       = np.zeros(number_epoch)\n",
        "accuracy_test_mean  = np.zeros(number_epoch)\n",
        "accuracy_test_std   = np.zeros(number_epoch)"
      ]
    },
    {
      "cell_type": "markdown",
      "metadata": {
        "id": "Nun9uPt10QS_"
      },
      "source": [
        "## train and test"
      ]
    },
    {
      "cell_type": "code",
      "execution_count": null,
      "metadata": {
        "colab": {
          "base_uri": "https://localhost:8080/"
        },
        "id": "cZ5kV5pe0QS_",
        "outputId": "2a9cfffe-98c8-4434-9048-a64fbb2302c4"
      },
      "outputs": [
        {
          "output_type": "stream",
          "name": "stderr",
          "text": [
            "100%|██████████| 55/55 [04:00<00:00,  4.38s/it]\n"
          ]
        }
      ],
      "source": [
        "# ================================================================================\n",
        "# \n",
        "# iterations for epochs\n",
        "#\n",
        "# ================================================================================\n",
        "for i in tqdm(range(number_epoch)):\n",
        "    \n",
        "    # ================================================================================\n",
        "    # \n",
        "    # training\n",
        "    #\n",
        "    # ================================================================================\n",
        "    loss_train_epoch        = []\n",
        "    accuracy_train_epoch    = []\n",
        "\n",
        "    classifier.train()\n",
        "\n",
        "    for index_batch, (image_train, label_train) in enumerate(dataloader_train):\n",
        "        # print(index_batch, image_train.shape, label_train.shape)\n",
        "        image_train = image_train.to(device)\n",
        "        label_train = label_train.to(device)\n",
        "\n",
        "\n",
        "# ================================================== \n",
        "# fill up the blank\n",
        "#       \n",
        "        # mini-batch prediction\n",
        "        mb_prediction = compute_prediction(classifier, image_train)\n",
        "        loss_train              = compute_loss(mb_prediction, label_train)\n",
        "        loss_value_train        = compute_loss_value(loss_train)\n",
        "        accuracy_train          = compute_accuracy(mb_prediction, label_train)\n",
        "        \n",
        "#\n",
        "# ================================================== \n",
        "\n",
        "        loss_train_epoch.append(loss_value_train)\n",
        "        accuracy_train_epoch.append(accuracy_train)\n",
        "\n",
        "# ================================================== \n",
        "# fill up the blank (update moodel parameters using a mini-batch)\n",
        "#       \n",
        "        # optimizer = torch.optim.SGD(classifier.parameters(), lr=learning_rate, weight_decay=weight_decay)\n",
        "        # gradient descent how to weight update \n",
        "        optimizer.zero_grad()\n",
        "        loss_train.backward()\n",
        "        optimizer.step()\n",
        "\n",
        "\n",
        "#\n",
        "# ==================================================  \n",
        "\n",
        "\n",
        "    loss_train_mean[i]      = np.mean(loss_train_epoch)\n",
        "    loss_train_std[i]       = np.std(loss_train_epoch)\n",
        "\n",
        "    accuracy_train_mean[i]  = np.mean(accuracy_train_epoch)\n",
        "    accuracy_train_std[i]   = np.std(accuracy_train_epoch)\n",
        "\n",
        "    # ================================================================================\n",
        "    # \n",
        "    # testing\n",
        "    #\n",
        "    # ================================================================================\n",
        "    loss_test_epoch        = []\n",
        "    accuracy_test_epoch    = []\n",
        "    #  eval() -> because we don't want to update weight parameters\n",
        "    classifier.eval()\n",
        "\n",
        "    for index_batch, (image_test, label_test) in enumerate(dataloader_test):\n",
        "\n",
        "        image_test = image_test.to(device)\n",
        "        label_test = label_test.to(device)\n",
        "\n",
        "# ================================================== \n",
        "# fill up the blank\n",
        "#         \n",
        "        test_prediction = compute_prediction(classifier, image_test)\n",
        "        loss_test       = compute_loss(test_prediction, label_test)\n",
        "        loss_value_test = compute_loss_value(loss_test)\n",
        "        accuracy_test   = compute_accuracy(test_prediction, label_test)\n",
        "        \n",
        "#\n",
        "# ================================================== \n",
        " \n",
        "        loss_test_epoch.append(loss_value_test)\n",
        "        accuracy_test_epoch.append(accuracy_test)\n",
        "\n",
        "    loss_test_mean[i]      = np.mean(loss_test_epoch)\n",
        "    loss_test_std[i]       = np.std(loss_test_epoch)\n",
        "\n",
        "    accuracy_test_mean[i]  = np.mean(accuracy_test_epoch)\n",
        "    accuracy_test_std[i]   = np.std(accuracy_test_epoch)"
      ]
    },
    {
      "cell_type": "markdown",
      "metadata": {
        "id": "laGW-AFO0QTA"
      },
      "source": [
        "---"
      ]
    },
    {
      "cell_type": "markdown",
      "metadata": {
        "id": "LgDs44EU0QTA"
      },
      "source": [
        "## functions for presenting the results"
      ]
    },
    {
      "cell_type": "markdown",
      "metadata": {
        "id": "wf-raoTZ0QTA"
      },
      "source": [
        "---"
      ]
    },
    {
      "cell_type": "code",
      "execution_count": null,
      "metadata": {
        "id": "YRrMt9sb0QTA"
      },
      "outputs": [],
      "source": [
        "def function_result_01():\n",
        "\n",
        "    title           = 'loss (training)'\n",
        "    label_axis_x    = 'epoch' \n",
        "    label_axis_y    = 'loss'\n",
        "    color_mean      = 'red'\n",
        "    color_std       = 'blue'\n",
        "    alpha           = 0.3\n",
        "\n",
        "    plt.figure(figsize=(8, 6))\n",
        "    plt.title(title)\n",
        "\n",
        "    plt.plot(range(len(loss_train_mean)), loss_train_mean, '-', color = color_mean)\n",
        "    plt.fill_between(range(len(loss_train_mean)), loss_train_mean - loss_train_std, loss_train_mean + loss_train_std, facecolor = color_std, alpha = alpha) \n",
        "    \n",
        "    plt.xlabel(label_axis_x)\n",
        "    plt.ylabel(label_axis_y)\n",
        "\n",
        "    plt.tight_layout()\n",
        "    plt.show()"
      ]
    },
    {
      "cell_type": "code",
      "execution_count": null,
      "metadata": {
        "id": "GPe3UYmT0QTA"
      },
      "outputs": [],
      "source": [
        "def function_result_02():\n",
        "\n",
        "    title           = 'loss (testing)'\n",
        "    label_axis_x    = 'epoch' \n",
        "    label_axis_y    = 'loss'\n",
        "    color_mean      = 'red'\n",
        "    color_std       = 'blue'\n",
        "    alpha           = 0.3\n",
        "\n",
        "    plt.figure(figsize=(8, 6))\n",
        "    plt.title(title)\n",
        "\n",
        "    plt.plot(range(len(loss_test_mean)), loss_test_mean, '-', color = color_mean)\n",
        "    plt.fill_between(range(len(loss_test_mean)), loss_test_mean - loss_test_std, loss_test_mean + loss_test_std, facecolor = color_std, alpha = alpha) \n",
        "    \n",
        "    plt.xlabel(label_axis_x)\n",
        "    plt.ylabel(label_axis_y)\n",
        "\n",
        "    plt.tight_layout()\n",
        "    plt.show()"
      ]
    },
    {
      "cell_type": "code",
      "execution_count": null,
      "metadata": {
        "id": "7iyG8Qr_0QTA"
      },
      "outputs": [],
      "source": [
        "def function_result_03():\n",
        "\n",
        "    title           = 'accuracy (training)'\n",
        "    label_axis_x    = 'epoch' \n",
        "    label_axis_y    = 'accuracy'\n",
        "    color_mean      = 'red'\n",
        "    color_std       = 'blue'\n",
        "    alpha           = 0.3\n",
        "\n",
        "    plt.figure(figsize=(8, 6))\n",
        "    plt.title(title)\n",
        "\n",
        "    plt.plot(range(len(accuracy_train_mean)), accuracy_train_mean, '-', color = color_mean)\n",
        "    plt.fill_between(range(len(accuracy_train_mean)), accuracy_train_mean - accuracy_train_std, accuracy_train_mean + accuracy_train_std, facecolor = color_std, alpha = alpha) \n",
        "    \n",
        "    plt.xlabel(label_axis_x)\n",
        "    plt.ylabel(label_axis_y)\n",
        "\n",
        "    plt.tight_layout()\n",
        "    plt.show()"
      ]
    },
    {
      "cell_type": "code",
      "execution_count": null,
      "metadata": {
        "id": "gEm4U52s0QTB"
      },
      "outputs": [],
      "source": [
        "def function_result_04():\n",
        "\n",
        "    title           = 'accuracy (testing)'\n",
        "    label_axis_x    = 'epoch' \n",
        "    label_axis_y    = 'accuracy'\n",
        "    color_mean      = 'red'\n",
        "    color_std       = 'blue'\n",
        "    alpha           = 0.3\n",
        "\n",
        "    plt.figure(figsize=(8, 6))\n",
        "    plt.title(title)\n",
        "\n",
        "    plt.plot(range(len(accuracy_test_mean)), accuracy_test_mean, '-', color = color_mean)\n",
        "    plt.fill_between(range(len(accuracy_test_mean)), accuracy_test_mean - accuracy_test_std, accuracy_test_mean + accuracy_test_std, facecolor = color_std, alpha = alpha) \n",
        "    \n",
        "    plt.xlabel(label_axis_x)\n",
        "    plt.ylabel(label_axis_y)\n",
        "\n",
        "    plt.tight_layout()\n",
        "    plt.show()"
      ]
    },
    {
      "cell_type": "code",
      "execution_count": null,
      "metadata": {
        "id": "7XLkV1uk0QTB"
      },
      "outputs": [],
      "source": [
        "def function_result_05():\n",
        "\n",
        "    print('final training accuracy = %9.8f' % (accuracy_train_mean[-1]))"
      ]
    },
    {
      "cell_type": "code",
      "execution_count": null,
      "metadata": {
        "id": "ZQS34BbE0QTB"
      },
      "outputs": [],
      "source": [
        "def function_result_06():\n",
        "\n",
        "    print('final testing accuracy = %9.8f' % (accuracy_test_mean[-1]))"
      ]
    },
    {
      "cell_type": "markdown",
      "metadata": {
        "id": "fU06FnZN0QTB"
      },
      "source": [
        "---"
      ]
    },
    {
      "cell_type": "markdown",
      "metadata": {
        "id": "aFnrVStN0QTB"
      },
      "source": [
        "## results "
      ]
    },
    {
      "cell_type": "markdown",
      "metadata": {
        "id": "HAmX7bfe0QTB"
      },
      "source": [
        "---"
      ]
    },
    {
      "cell_type": "code",
      "execution_count": null,
      "metadata": {
        "colab": {
          "base_uri": "https://localhost:8080/",
          "height": 1000
        },
        "id": "ym_NzP5E0QTB",
        "outputId": "53581121-ea94-4fc7-94c5-60a4ff7868c6"
      },
      "outputs": [
        {
          "output_type": "stream",
          "name": "stdout",
          "text": [
            "\n",
            "################################################################################\n",
            "#\n",
            "# RESULT # 01\n",
            "#\n",
            "################################################################################\n",
            "\n"
          ]
        },
        {
          "output_type": "display_data",
          "data": {
            "text/plain": [
              "<Figure size 576x432 with 1 Axes>"
            ],
            "image/png": "[encoded data removed]"
          },
          "metadata": {
            "needs_background": "light"
          }
        },
        {
          "output_type": "stream",
          "name": "stdout",
          "text": [
            "\n",
            "################################################################################\n",
            "#\n",
            "# RESULT # 02\n",
            "#\n",
            "################################################################################\n",
            "\n"
          ]
        },
        {
          "output_type": "display_data",
          "data": {
            "text/plain": [
              "<Figure size 576x432 with 1 Axes>"
            ],
            "image/png": "[encoded data removed]"
          },
          "metadata": {
            "needs_background": "light"
          }
        },
        {
          "output_type": "stream",
          "name": "stdout",
          "text": [
            "\n",
            "################################################################################\n",
            "#\n",
            "# RESULT # 03\n",
            "#\n",
            "################################################################################\n",
            "\n"
          ]
        },
        {
          "output_type": "display_data",
          "data": {
            "text/plain": [
              "<Figure size 576x432 with 1 Axes>"
            ],
            "image/png": "[encoded data removed]"
          },
          "metadata": {
            "needs_background": "light"
          }
        },
        {
          "output_type": "stream",
          "name": "stdout",
          "text": [
            "\n",
            "################################################################################\n",
            "#\n",
            "# RESULT # 04\n",
            "#\n",
            "################################################################################\n",
            "\n"
          ]
        },
        {
          "output_type": "display_data",
          "data": {
            "text/plain": [
              "<Figure size 576x432 with 1 Axes>"
            ],
            "image/png": "[encoded data removed]"
          },
          "metadata": {
            "needs_background": "light"
          }
        },
        {
          "output_type": "stream",
          "name": "stdout",
          "text": [
            "\n",
            "################################################################################\n",
            "#\n",
            "# RESULT # 05\n",
            "#\n",
            "################################################################################\n",
            "\n",
            "final training accuracy = 0.97900009\n",
            "\n",
            "################################################################################\n",
            "#\n",
            "# RESULT # 06\n",
            "#\n",
            "################################################################################\n",
            "\n",
            "final testing accuracy = 0.96212500\n"
          ]
        }
      ],
      "source": [
        "number_result = 6 \n",
        "\n",
        "for i in range(number_result):\n",
        "\n",
        "    title           = '# RESULT # {:02d}'.format(i+1) \n",
        "    name_function   = 'function_result_{:02d}()'.format(i+1)\n",
        "\n",
        "    print('') \n",
        "    print('################################################################################')\n",
        "    print('#') \n",
        "    print(title)\n",
        "    print('#') \n",
        "    print('################################################################################')\n",
        "    print('') \n",
        "\n",
        "    eval(name_function)"
      ]
    },
    {
      "cell_type": "code",
      "execution_count": null,
      "metadata": {
        "id": "A7uohDjZ0QTC",
        "colab": {
          "base_uri": "https://localhost:8080/"
        },
        "outputId": "3aa4e4d0-bff9-4650-de42-4674216115dd"
      },
      "outputs": [
        {
          "output_type": "stream",
          "name": "stdout",
          "text": [
            "feature.0.weight \t torch.Size([2, 1, 3, 3])\n",
            "feature.0.bias \t torch.Size([2])\n",
            "feature.3.weight \t torch.Size([4, 2, 3, 3])\n",
            "feature.3.bias \t torch.Size([4])\n",
            "feature.6.weight \t torch.Size([8, 4, 3, 3])\n",
            "feature.6.bias \t torch.Size([8])\n",
            "feature.9.weight \t torch.Size([16, 8, 3, 3])\n",
            "feature.9.bias \t torch.Size([16])\n",
            "feature.12.weight \t torch.Size([32, 16, 3, 3])\n",
            "feature.12.bias \t torch.Size([32])\n",
            "classifier.0.weight \t torch.Size([16, 32])\n",
            "classifier.0.bias \t torch.Size([16])\n",
            "classifier.2.weight \t torch.Size([10, 16])\n",
            "classifier.2.bias \t torch.Size([10])\n",
            "network.0.0.weight \t torch.Size([2, 1, 3, 3])\n",
            "network.0.0.bias \t torch.Size([2])\n",
            "network.0.3.weight \t torch.Size([4, 2, 3, 3])\n",
            "network.0.3.bias \t torch.Size([4])\n",
            "network.0.6.weight \t torch.Size([8, 4, 3, 3])\n",
            "network.0.6.bias \t torch.Size([8])\n",
            "network.0.9.weight \t torch.Size([16, 8, 3, 3])\n",
            "network.0.9.bias \t torch.Size([16])\n",
            "network.0.12.weight \t torch.Size([32, 16, 3, 3])\n",
            "network.0.12.bias \t torch.Size([32])\n",
            "network.2.0.weight \t torch.Size([16, 32])\n",
            "network.2.0.bias \t torch.Size([16])\n",
            "network.2.2.weight \t torch.Size([10, 16])\n",
            "network.2.2.bias \t torch.Size([10])\n"
          ]
        }
      ],
      "source": [
        "for param_tensor in classifier.state_dict():\n",
        "    print(param_tensor, \"\\t\", classifier.state_dict()[param_tensor].size())"
      ]
    },
    {
      "cell_type": "code",
      "source": [
        "from google.colab import drive \n",
        "drive.mount('/content/drive')"
      ],
      "metadata": {
        "colab": {
          "base_uri": "https://localhost:8080/"
        },
        "id": "YsOc0qyXwy5m",
        "outputId": "ff24143c-d92d-4eb4-c8b5-b492dacbb051"
      },
      "execution_count": null,
      "outputs": [
        {
          "output_type": "stream",
          "name": "stdout",
          "text": [
            "Mounted at /content/drive\n"
          ]
        }
      ]
    },
    {
      "cell_type": "code",
      "source": [
        "torch.save(classifier.state_dict(), \"./drive/MyDrive/capstone.pth\")"
      ],
      "metadata": {
        "id": "iwY2b6IGwjgt"
      },
      "execution_count": null,
      "outputs": []
    },
    {
      "cell_type": "code",
      "source": [
        "loadmodel = Classifier()\n",
        "loadmodel.load_state_dict(torch.load(\"./drive/MyDrive/capstone.pth\"))\n",
        "loadmodel.eval()"
      ],
      "metadata": {
        "colab": {
          "base_uri": "https://localhost:8080/"
        },
        "id": "oKSIZRaxyDXQ",
        "outputId": "cd4d0204-8ba5-41fc-e90b-5ae655007379"
      },
      "execution_count": null,
      "outputs": [
        {
          "output_type": "execute_result",
          "data": {
            "text/plain": [
              "Classifier(\n",
              "  (feature): Sequential(\n",
              "    (0): Conv2d(1, 2, kernel_size=(3, 3), stride=(1, 1), padding=(1, 1))\n",
              "    (1): MaxPool2d(kernel_size=2, stride=2, padding=0, dilation=1, ceil_mode=False)\n",
              "    (2): ReLU()\n",
              "    (3): Conv2d(2, 4, kernel_size=(3, 3), stride=(1, 1), padding=(1, 1))\n",
              "    (4): MaxPool2d(kernel_size=2, stride=2, padding=0, dilation=1, ceil_mode=False)\n",
              "    (5): ReLU()\n",
              "    (6): Conv2d(4, 8, kernel_size=(3, 3), stride=(1, 1), padding=(1, 1))\n",
              "    (7): MaxPool2d(kernel_size=2, stride=2, padding=0, dilation=1, ceil_mode=False)\n",
              "    (8): ReLU()\n",
              "    (9): Conv2d(8, 16, kernel_size=(3, 3), stride=(1, 1), padding=(1, 1))\n",
              "    (10): MaxPool2d(kernel_size=2, stride=2, padding=0, dilation=1, ceil_mode=False)\n",
              "    (11): ReLU()\n",
              "    (12): Conv2d(16, 32, kernel_size=(3, 3), stride=(1, 1), padding=(1, 1))\n",
              "    (13): MaxPool2d(kernel_size=2, stride=2, padding=0, dilation=1, ceil_mode=False)\n",
              "    (14): ReLU()\n",
              "  )\n",
              "  (classifier): Sequential(\n",
              "    (0): Linear(in_features=32, out_features=16, bias=True)\n",
              "    (1): ReLU()\n",
              "    (2): Linear(in_features=16, out_features=10, bias=True)\n",
              "  )\n",
              "  (network): Sequential(\n",
              "    (0): Sequential(\n",
              "      (0): Conv2d(1, 2, kernel_size=(3, 3), stride=(1, 1), padding=(1, 1))\n",
              "      (1): MaxPool2d(kernel_size=2, stride=2, padding=0, dilation=1, ceil_mode=False)\n",
              "      (2): ReLU()\n",
              "      (3): Conv2d(2, 4, kernel_size=(3, 3), stride=(1, 1), padding=(1, 1))\n",
              "      (4): MaxPool2d(kernel_size=2, stride=2, padding=0, dilation=1, ceil_mode=False)\n",
              "      (5): ReLU()\n",
              "      (6): Conv2d(4, 8, kernel_size=(3, 3), stride=(1, 1), padding=(1, 1))\n",
              "      (7): MaxPool2d(kernel_size=2, stride=2, padding=0, dilation=1, ceil_mode=False)\n",
              "      (8): ReLU()\n",
              "      (9): Conv2d(8, 16, kernel_size=(3, 3), stride=(1, 1), padding=(1, 1))\n",
              "      (10): MaxPool2d(kernel_size=2, stride=2, padding=0, dilation=1, ceil_mode=False)\n",
              "      (11): ReLU()\n",
              "      (12): Conv2d(16, 32, kernel_size=(3, 3), stride=(1, 1), padding=(1, 1))\n",
              "      (13): MaxPool2d(kernel_size=2, stride=2, padding=0, dilation=1, ceil_mode=False)\n",
              "      (14): ReLU()\n",
              "    )\n",
              "    (1): Flatten(start_dim=1, end_dim=-1)\n",
              "    (2): Sequential(\n",
              "      (0): Linear(in_features=32, out_features=16, bias=True)\n",
              "      (1): ReLU()\n",
              "      (2): Linear(in_features=16, out_features=10, bias=True)\n",
              "    )\n",
              "  )\n",
              ")"
            ]
          },
          "metadata": {},
          "execution_count": 48
        }
      ]
    },
    {
      "cell_type": "code",
      "source": [
        "# 불러온 모델 확인하기\n",
        "#\n",
        "# ================================================================================\n",
        "for i in tqdm(range(number_epoch)):\n",
        "    # ================================================================================\n",
        "    # \n",
        "    # testing\n",
        "    #\n",
        "    # ================================================================================\n",
        "    loss_test_epoch        = []\n",
        "    accuracy_test_epoch    = []\n",
        "    #  eval() -> because we don't want to update weight parameters\n",
        "    loadmodel.eval()\n",
        "\n",
        "    for index_batch, (image_test, label_test) in enumerate(dataloader_test):\n",
        "\n",
        "        image_test = image_test.to(device)\n",
        "        label_test = label_test.to(device)\n",
        "\n",
        "# ================================================== \n",
        "# fill up the blank\n",
        "#         \n",
        "        test_prediction = compute_prediction(loadmodel, image_test)\n",
        "        loss_test       = compute_loss(test_prediction, label_test)\n",
        "        loss_value_test = compute_loss_value(loss_test)\n",
        "        accuracy_test   = compute_accuracy(test_prediction, label_test)\n",
        "        \n",
        "#\n",
        "# ================================================== \n",
        " \n",
        "        loss_test_epoch.append(loss_value_test)\n",
        "        accuracy_test_epoch.append(accuracy_test)\n",
        "\n",
        "    loss_test_mean[i]      = np.mean(loss_test_epoch)\n",
        "    loss_test_std[i]       = np.std(loss_test_epoch)\n",
        "\n",
        "    accuracy_test_mean[i]  = np.mean(accuracy_test_epoch)\n",
        "    accuracy_test_std[i]   = np.std(accuracy_test_epoch)"
      ],
      "metadata": {
        "colab": {
          "base_uri": "https://localhost:8080/"
        },
        "id": "9AvnJGrm0AK4",
        "outputId": "e3ca8693-45ed-4410-c500-d280de27c36c"
      },
      "execution_count": null,
      "outputs": [
        {
          "output_type": "stream",
          "name": "stderr",
          "text": [
            "100%|██████████| 55/55 [00:40<00:00,  1.36it/s]\n"
          ]
        }
      ]
    },
    {
      "cell_type": "code",
      "source": [
        "number_result = 6 \n",
        "\n",
        "for i in range(number_result):\n",
        "\n",
        "    title           = '# RESULT # {:02d}'.format(i+1) \n",
        "    name_function   = 'function_result_{:02d}()'.format(i+1)\n",
        "\n",
        "    print('') \n",
        "    print('################################################################################')\n",
        "    print('#') \n",
        "    print(title)\n",
        "    print('#') \n",
        "    print('################################################################################')\n",
        "    print('') \n",
        "\n",
        "    eval(name_function)"
      ],
      "metadata": {
        "colab": {
          "base_uri": "https://localhost:8080/",
          "height": 1000
        },
        "id": "OkQeRi700AW-",
        "outputId": "62129061-357e-4e2f-8a50-224f6c79f03d"
      },
      "execution_count": null,
      "outputs": [
        {
          "output_type": "stream",
          "name": "stdout",
          "text": [
            "\n",
            "################################################################################\n",
            "#\n",
            "# RESULT # 01\n",
            "#\n",
            "################################################################################\n",
            "\n"
          ]
        },
        {
          "output_type": "display_data",
          "data": {
            "text/plain": [
              "<Figure size 576x432 with 1 Axes>"
            ],
            "image/png": "[encoded data removed]"
          },
          "metadata": {
            "needs_background": "light"
          }
        },
        {
          "output_type": "stream",
          "name": "stdout",
          "text": [
            "\n",
            "################################################################################\n",
            "#\n",
            "# RESULT # 02\n",
            "#\n",
            "################################################################################\n",
            "\n"
          ]
        },
        {
          "output_type": "display_data",
          "data": {
            "text/plain": [
              "<Figure size 576x432 with 1 Axes>"
            ],
            "image/png": "[encoded data removed]"
          },
          "metadata": {
            "needs_background": "light"
          }
        },
        {
          "output_type": "stream",
          "name": "stdout",
          "text": [
            "\n",
            "################################################################################\n",
            "#\n",
            "# RESULT # 03\n",
            "#\n",
            "################################################################################\n",
            "\n"
          ]
        },
        {
          "output_type": "display_data",
          "data": {
            "text/plain": [
              "<Figure size 576x432 with 1 Axes>"
            ],
            "image/png": "[encoded data removed]"
          },
          "metadata": {
            "needs_background": "light"
          }
        },
        {
          "output_type": "stream",
          "name": "stdout",
          "text": [
            "\n",
            "################################################################################\n",
            "#\n",
            "# RESULT # 04\n",
            "#\n",
            "################################################################################\n",
            "\n"
          ]
        },
        {
          "output_type": "display_data",
          "data": {
            "text/plain": [
              "<Figure size 576x432 with 1 Axes>"
            ],
            "image/png": "[encoded data removed]"
          },
          "metadata": {
            "needs_background": "light"
          }
        },
        {
          "output_type": "stream",
          "name": "stdout",
          "text": [
            "\n",
            "################################################################################\n",
            "#\n",
            "# RESULT # 05\n",
            "#\n",
            "################################################################################\n",
            "\n",
            "final training accuracy = 0.97900009\n",
            "\n",
            "################################################################################\n",
            "#\n",
            "# RESULT # 06\n",
            "#\n",
            "################################################################################\n",
            "\n",
            "final testing accuracy = 0.96212500\n"
          ]
        }
      ]
    },
    {
      "cell_type": "code",
      "source": [
        "# 여기서부터 ONNX 모델로 변환 \n",
        "import io\n",
        "import torch.utils.model_zoo as model_zoo\n",
        "import torch.onnx"
      ],
      "metadata": {
        "id": "Xwbnh1wzzdXO"
      },
      "execution_count": null,
      "outputs": []
    },
    {
      "cell_type": "code",
      "source": [
        "xxx = torch.randn(1, 1, 32, 32, requires_grad=True)\n",
        "torch_out = loadmodel(xxx)\n",
        "\n",
        "# 모델 변환\n",
        "torch.onnx.export(loadmodel,               # 실행될 모델\n",
        "                  xxx,                         # 모델 입력값 (튜플 또는 여러 입력값들도 가능)\n",
        "                  \"./drive/MyDrive/capstone.onnx\",   # 모델 저장 경로 (파일 또는 파일과 유사한 객체 모두 가능)\n",
        "                  export_params=True,        # 모델 파일 안에 학습된 모델 가중치를 저장할지의 여부\n",
        "                  opset_version=10,          # 모델을 변환할 때 사용할 ONNX 버전\n",
        "                  do_constant_folding=True,  # 최적화시 상수폴딩을 사용할지의 여부\n",
        "                  input_names = ['input'],   # 모델의 입력값을 가리키는 이름\n",
        "                  output_names = ['output'], # 모델의 출력값을 가리키는 이름\n",
        "                  dynamic_axes={'input' : {0 : '1'},    # 가변적인 길이를 가진 차원\n",
        "                                'output' : {0 : '1'}})"
      ],
      "metadata": {
        "id": "XzGwhYvlzd4n"
      },
      "execution_count": null,
      "outputs": []
    },
    {
      "cell_type": "code",
      "source": [
        "# onnx모델델 불러와서서 확인\n",
        "!pip install onnx\n"
      ],
      "metadata": {
        "colab": {
          "base_uri": "https://localhost:8080/"
        },
        "id": "z_JBir-OzeBA",
        "outputId": "6b66702c-4ce2-4823-f3c2-d638315df58c"
      },
      "execution_count": null,
      "outputs": [
        {
          "output_type": "stream",
          "name": "stdout",
          "text": [
            "Looking in indexes: https://pypi.org/simple, https://us-python.pkg.dev/colab-wheels/public/simple/\n",
            "Collecting onnx\n",
            "  Downloading onnx-1.12.0-cp37-cp37m-manylinux_2_17_x86_64.manylinux2014_x86_64.whl (13.1 MB)\n",
            "\u001b[K     |████████████████████████████████| 13.1 MB 5.1 MB/s \n",
            "\u001b[?25hRequirement already satisfied: numpy>=1.16.6 in /usr/local/lib/python3.7/dist-packages (from onnx) (1.21.6)\n",
            "Requirement already satisfied: typing-extensions>=3.6.2.1 in /usr/local/lib/python3.7/dist-packages (from onnx) (4.1.1)\n",
            "Requirement already satisfied: protobuf<=3.20.1,>=3.12.2 in /usr/local/lib/python3.7/dist-packages (from onnx) (3.17.3)\n",
            "Requirement already satisfied: six>=1.9 in /usr/local/lib/python3.7/dist-packages (from protobuf<=3.20.1,>=3.12.2->onnx) (1.15.0)\n",
            "Installing collected packages: onnx\n",
            "Successfully installed onnx-1.12.0\n"
          ]
        }
      ]
    },
    {
      "cell_type": "code",
      "source": [
        "import onnx\n",
        "\n",
        "onnx_model = onnx.load(\"./drive/MyDrive/capstone.onnx\")\n",
        "onnx.checker.check_model(onnx_model)"
      ],
      "metadata": {
        "id": "bP2oKTOp3gW5"
      },
      "execution_count": null,
      "outputs": []
    },
    {
      "cell_type": "code",
      "source": [
        "!pip install onnxruntime"
      ],
      "metadata": {
        "colab": {
          "base_uri": "https://localhost:8080/"
        },
        "id": "FpQrTMvA4UXO",
        "outputId": "9e2f6193-b08b-46e8-c3a5-26525856a393"
      },
      "execution_count": null,
      "outputs": [
        {
          "output_type": "stream",
          "name": "stdout",
          "text": [
            "Looking in indexes: https://pypi.org/simple, https://us-python.pkg.dev/colab-wheels/public/simple/\n",
            "Collecting onnxruntime\n",
            "  Downloading onnxruntime-1.13.1-cp37-cp37m-manylinux_2_27_x86_64.whl (4.5 MB)\n",
            "\u001b[K     |████████████████████████████████| 4.5 MB 5.3 MB/s \n",
            "\u001b[?25hRequirement already satisfied: sympy in /usr/local/lib/python3.7/dist-packages (from onnxruntime) (1.7.1)\n",
            "Requirement already satisfied: numpy>=1.21.6 in /usr/local/lib/python3.7/dist-packages (from onnxruntime) (1.21.6)\n",
            "Requirement already satisfied: packaging in /usr/local/lib/python3.7/dist-packages (from onnxruntime) (21.3)\n",
            "Requirement already satisfied: flatbuffers in /usr/local/lib/python3.7/dist-packages (from onnxruntime) (1.12)\n",
            "Collecting coloredlogs\n",
            "  Downloading coloredlogs-15.0.1-py2.py3-none-any.whl (46 kB)\n",
            "\u001b[K     |████████████████████████████████| 46 kB 3.3 MB/s \n",
            "\u001b[?25hRequirement already satisfied: protobuf in /usr/local/lib/python3.7/dist-packages (from onnxruntime) (3.17.3)\n",
            "Collecting humanfriendly>=9.1\n",
            "  Downloading humanfriendly-10.0-py2.py3-none-any.whl (86 kB)\n",
            "\u001b[K     |████████████████████████████████| 86 kB 4.8 MB/s \n",
            "\u001b[?25hRequirement already satisfied: pyparsing!=3.0.5,>=2.0.2 in /usr/local/lib/python3.7/dist-packages (from packaging->onnxruntime) (3.0.9)\n",
            "Requirement already satisfied: six>=1.9 in /usr/local/lib/python3.7/dist-packages (from protobuf->onnxruntime) (1.15.0)\n",
            "Requirement already satisfied: mpmath>=0.19 in /usr/local/lib/python3.7/dist-packages (from sympy->onnxruntime) (1.2.1)\n",
            "Installing collected packages: humanfriendly, coloredlogs, onnxruntime\n",
            "Successfully installed coloredlogs-15.0.1 humanfriendly-10.0 onnxruntime-1.13.1\n"
          ]
        }
      ]
    },
    {
      "cell_type": "code",
      "source": [
        "import onnxruntime\n",
        "\n",
        "ort_session = onnxruntime.InferenceSession(\"./drive/MyDrive/capstone.onnx\")\n",
        "\n",
        "def to_numpy(tensor):\n",
        "    return tensor.detach().cpu().numpy() if tensor.requires_grad else tensor.cpu().numpy()\n",
        "\n",
        "# ONNX 런타임에서 계산된 결과값\n",
        "ort_inputs = {ort_session.get_inputs()[0].name: to_numpy(xxx)}\n",
        "ort_outs = ort_session.run(None, ort_inputs)\n",
        "\n",
        "# ONNX 런타임과 PyTorch에서 연산된 결과값 비교\n",
        "np.testing.assert_allclose(to_numpy(torch_out), ort_outs[0], rtol=1e-03, atol=1e-05)"
      ],
      "metadata": {
        "id": "qviHuzGQ3rx6"
      },
      "execution_count": null,
      "outputs": []
    },
    {
      "cell_type": "code",
      "source": [
        "# torch모델과과 onnx모델델 출력값이 같은 것을 알 수 있다.\n",
        "print(ort_outs)\n",
        "print(torch_out)"
      ],
      "metadata": {
        "colab": {
          "base_uri": "https://localhost:8080/"
        },
        "id": "8KoCj1ji5Aiy",
        "outputId": "11ea40ef-8b9e-4191-a3ca-483c2ff777e4"
      },
      "execution_count": null,
      "outputs": [
        {
          "output_type": "stream",
          "name": "stdout",
          "text": [
            "[array([[-0.25228894,  0.9694917 ,  3.6185737 ,  4.341916  , -6.770242  ,\n",
            "         1.8312073 , -3.368295  ,  0.34477165,  1.532418  , -5.6375575 ]],\n",
            "      dtype=float32)]\n",
            "tensor([[-0.2523,  0.9695,  3.6186,  4.3419, -6.7702,  1.8312, -3.3683,  0.3448,\n",
            "          1.5324, -5.6376]], grad_fn=<AddmmBackward0>)\n"
          ]
        }
      ]
    },
    {
      "cell_type": "code",
      "source": [
        "!git clone https://github.com/onnx/onnx-tensorflow.git && cd onnx-tensorflow\n"
      ],
      "metadata": {
        "colab": {
          "base_uri": "https://localhost:8080/"
        },
        "id": "u_WSPmtK6Axo",
        "outputId": "901c6c9d-e453-4ec0-ae5b-146886c7812b"
      },
      "execution_count": null,
      "outputs": [
        {
          "output_type": "stream",
          "name": "stdout",
          "text": [
            "fatal: destination path 'onnx-tensorflow' already exists and is not an empty directory.\n"
          ]
        }
      ]
    },
    {
      "cell_type": "code",
      "source": [
        "!pip install onnx_tf"
      ],
      "metadata": {
        "colab": {
          "base_uri": "https://localhost:8080/"
        },
        "id": "QfB9dKTZ6aaG",
        "outputId": "528d0e46-ccdb-4911-dd32-4612ade74cb1"
      },
      "execution_count": null,
      "outputs": [
        {
          "output_type": "stream",
          "name": "stdout",
          "text": [
            "Looking in indexes: https://pypi.org/simple, https://us-python.pkg.dev/colab-wheels/public/simple/\n",
            "Collecting onnx_tf\n",
            "  Downloading onnx_tf-1.10.0-py3-none-any.whl (226 kB)\n",
            "\u001b[K     |████████████████████████████████| 226 kB 5.0 MB/s \n",
            "\u001b[?25hRequirement already satisfied: onnx>=1.10.2 in /usr/local/lib/python3.7/dist-packages (from onnx_tf) (1.12.0)\n",
            "Requirement already satisfied: PyYAML in /usr/local/lib/python3.7/dist-packages (from onnx_tf) (6.0)\n",
            "Collecting tensorflow-addons\n",
            "  Downloading tensorflow_addons-0.18.0-cp37-cp37m-manylinux_2_17_x86_64.manylinux2014_x86_64.whl (1.1 MB)\n",
            "\u001b[K     |████████████████████████████████| 1.1 MB 47.9 MB/s \n",
            "\u001b[?25hRequirement already satisfied: protobuf<=3.20.1,>=3.12.2 in /usr/local/lib/python3.7/dist-packages (from onnx>=1.10.2->onnx_tf) (3.17.3)\n",
            "Requirement already satisfied: typing-extensions>=3.6.2.1 in /usr/local/lib/python3.7/dist-packages (from onnx>=1.10.2->onnx_tf) (4.1.1)\n",
            "Requirement already satisfied: numpy>=1.16.6 in /usr/local/lib/python3.7/dist-packages (from onnx>=1.10.2->onnx_tf) (1.21.6)\n",
            "Requirement already satisfied: six>=1.9 in /usr/local/lib/python3.7/dist-packages (from protobuf<=3.20.1,>=3.12.2->onnx>=1.10.2->onnx_tf) (1.15.0)\n",
            "Requirement already satisfied: packaging in /usr/local/lib/python3.7/dist-packages (from tensorflow-addons->onnx_tf) (21.3)\n",
            "Requirement already satisfied: typeguard>=2.7 in /usr/local/lib/python3.7/dist-packages (from tensorflow-addons->onnx_tf) (2.7.1)\n",
            "Requirement already satisfied: pyparsing!=3.0.5,>=2.0.2 in /usr/local/lib/python3.7/dist-packages (from packaging->tensorflow-addons->onnx_tf) (3.0.9)\n",
            "Installing collected packages: tensorflow-addons, onnx-tf\n",
            "Successfully installed onnx-tf-1.10.0 tensorflow-addons-0.18.0\n"
          ]
        }
      ]
    },
    {
      "cell_type": "code",
      "source": [
        "import onnx\n",
        "\n",
        "onnx_model = onnx.load(\"./drive/MyDrive/capstone.onnx\")"
      ],
      "metadata": {
        "id": "lPceCEkZ6BA7"
      },
      "execution_count": null,
      "outputs": []
    },
    {
      "cell_type": "code",
      "source": [
        "from onnx_tf.backend import prepare\n",
        "\n",
        "tf_rep = prepare(onnx_model)"
      ],
      "metadata": {
        "id": "HKp9s6DH6BJm"
      },
      "execution_count": null,
      "outputs": []
    },
    {
      "cell_type": "code",
      "source": [
        "#tf모델로로 변환\n",
        "tf_rep.export_graph(\"./drive/MyDrive/capstonet\")"
      ],
      "metadata": {
        "colab": {
          "base_uri": "https://localhost:8080/"
        },
        "id": "kypgV-xY6BRV",
        "outputId": "34b556f7-5ced-4b1a-b19e-29180f451aa5"
      },
      "execution_count": null,
      "outputs": [
        {
          "output_type": "stream",
          "name": "stderr",
          "text": [
            "WARNING:absl:Found untraced functions such as gen_tensor_dict while saving (showing 1 of 1). These functions will not be directly callable after loading.\n"
          ]
        }
      ]
    },
    {
      "cell_type": "code",
      "source": [
        "import tensorflow as tf\n",
        "\n",
        "model = tf.saved_model.load(\"./drive/MyDrive/capstonet\")\n",
        "model.trainable = False\n",
        "\n",
        "#input_tensor = tf.random.uniform([1, 1, 32, 32])\n",
        "input_tensor = tf.random.uniform([1, 1, 32, 32])\n",
        "out = model(**{'input': input_tensor})\n",
        "print(out)"
      ],
      "metadata": {
        "colab": {
          "base_uri": "https://localhost:8080/"
        },
        "id": "6sfjTxv4-8LQ",
        "outputId": "5242ab7d-3165-482e-cf3d-1e380c4ac1ed"
      },
      "execution_count": null,
      "outputs": [
        {
          "output_type": "stream",
          "name": "stdout",
          "text": [
            "{'output': <tf.Tensor: shape=(1, 10), dtype=float32, numpy=\n",
            "array([[-0.9010399 , -1.5039877 ,  2.0773315 ,  2.6085644 , -3.5639937 ,\n",
            "         0.17304432, -2.4762208 , -2.7499616 ,  4.084781  ,  1.780235  ]],\n",
            "      dtype=float32)>}\n"
          ]
        }
      ]
    },
    {
      "cell_type": "code",
      "source": [
        "#tf-lite모델로로 변환\n",
        "import tensorflow as tf\n",
        "# Convert the model\n",
        "converter = tf.lite.TFLiteConverter.from_saved_model(\"./drive/MyDrive/capstonet\")\n",
        "tflite_model = converter.convert()\n",
        "\n"
      ],
      "metadata": {
        "id": "AZd97o3p6BZU"
      },
      "execution_count": null,
      "outputs": []
    },
    {
      "cell_type": "code",
      "source": [
        "# Save the model\n",
        "with open(\"./drive/MyDrive/capstone.tflite\", 'wb') as f:\n",
        "    f.write(tflite_model)\n"
      ],
      "metadata": {
        "id": "Yun9yxkE9I1h"
      },
      "execution_count": null,
      "outputs": []
    },
    {
      "cell_type": "code",
      "source": [
        "# tf-lite 추론\n",
        "# Load the TFLite model and allocate tensors\n",
        "interpreter = tf.lite.Interpreter(model_path=\"./drive/MyDrive/capstone.tflite\")\n",
        "interpreter.allocate_tensors()\n",
        "\n",
        "# Get input and output tensors\n",
        "input_details = interpreter.get_input_details()\n",
        "output_details = interpreter.get_output_details()\n",
        "\n",
        "# Test the model on random input data\n",
        "input_shape = input_details[0]['shape']\n",
        "input_data = np.array(np.random.random_sample(input_shape), dtype=np.float32)\n",
        "print(x_train[0].shape)\n",
        "interpreter.set_tensor(input_details[0]['index'], x_train[2000].reshape(1,1,32,32))\n",
        "\n",
        "interpreter.invoke()\n",
        "\n",
        "# get_tensor() returns a copy of the tensor data\n",
        "# use tensor() in order to get a pointer to the tensor\n",
        "output_data = interpreter.get_tensor(output_details[0]['index'])\n",
        "print(output_data)\n",
        "\n",
        "##### 이처럼럼 tf-lite& tf input이 같으면 추론결과가 같음을 확인"
      ],
      "metadata": {
        "colab": {
          "base_uri": "https://localhost:8080/"
        },
        "id": "Ax1e2c2v9JPA",
        "outputId": "91a54fd2-a6a5-45d0-80d9-eeb97fd97eb4"
      },
      "execution_count": null,
      "outputs": [
        {
          "output_type": "stream",
          "name": "stdout",
          "text": [
            "(32, 32)\n",
            "[[-1.3648632  10.546681    0.2904622   0.10681134  1.7099004  -0.8634583\n",
            "  -3.3273585   0.6510863   2.1721153  -1.4859302 ]]\n"
          ]
        }
      ]
    },
    {
      "cell_type": "code",
      "source": [
        "#여기서부터 torch -> CoreML\n",
        "torch_model = Classifier()\n",
        "torch_model.load_state_dict(torch.load(\"./drive/MyDrive/capstone.pth\"))\n",
        "torch_model.eval()"
      ],
      "metadata": {
        "colab": {
          "base_uri": "https://localhost:8080/"
        },
        "id": "Vf5th4FQX_18",
        "outputId": "528557fd-44e8-43d0-e101-774742b08bbc"
      },
      "execution_count": null,
      "outputs": [
        {
          "output_type": "execute_result",
          "data": {
            "text/plain": [
              "Classifier(\n",
              "  (feature): Sequential(\n",
              "    (0): Conv2d(1, 2, kernel_size=(3, 3), stride=(1, 1), padding=(1, 1))\n",
              "    (1): MaxPool2d(kernel_size=2, stride=2, padding=0, dilation=1, ceil_mode=False)\n",
              "    (2): ReLU()\n",
              "    (3): Conv2d(2, 4, kernel_size=(3, 3), stride=(1, 1), padding=(1, 1))\n",
              "    (4): MaxPool2d(kernel_size=2, stride=2, padding=0, dilation=1, ceil_mode=False)\n",
              "    (5): ReLU()\n",
              "    (6): Conv2d(4, 8, kernel_size=(3, 3), stride=(1, 1), padding=(1, 1))\n",
              "    (7): MaxPool2d(kernel_size=2, stride=2, padding=0, dilation=1, ceil_mode=False)\n",
              "    (8): ReLU()\n",
              "    (9): Conv2d(8, 16, kernel_size=(3, 3), stride=(1, 1), padding=(1, 1))\n",
              "    (10): MaxPool2d(kernel_size=2, stride=2, padding=0, dilation=1, ceil_mode=False)\n",
              "    (11): ReLU()\n",
              "    (12): Conv2d(16, 32, kernel_size=(3, 3), stride=(1, 1), padding=(1, 1))\n",
              "    (13): MaxPool2d(kernel_size=2, stride=2, padding=0, dilation=1, ceil_mode=False)\n",
              "    (14): ReLU()\n",
              "  )\n",
              "  (classifier): Sequential(\n",
              "    (0): Linear(in_features=32, out_features=16, bias=True)\n",
              "    (1): ReLU()\n",
              "    (2): Linear(in_features=16, out_features=10, bias=True)\n",
              "  )\n",
              "  (network): Sequential(\n",
              "    (0): Sequential(\n",
              "      (0): Conv2d(1, 2, kernel_size=(3, 3), stride=(1, 1), padding=(1, 1))\n",
              "      (1): MaxPool2d(kernel_size=2, stride=2, padding=0, dilation=1, ceil_mode=False)\n",
              "      (2): ReLU()\n",
              "      (3): Conv2d(2, 4, kernel_size=(3, 3), stride=(1, 1), padding=(1, 1))\n",
              "      (4): MaxPool2d(kernel_size=2, stride=2, padding=0, dilation=1, ceil_mode=False)\n",
              "      (5): ReLU()\n",
              "      (6): Conv2d(4, 8, kernel_size=(3, 3), stride=(1, 1), padding=(1, 1))\n",
              "      (7): MaxPool2d(kernel_size=2, stride=2, padding=0, dilation=1, ceil_mode=False)\n",
              "      (8): ReLU()\n",
              "      (9): Conv2d(8, 16, kernel_size=(3, 3), stride=(1, 1), padding=(1, 1))\n",
              "      (10): MaxPool2d(kernel_size=2, stride=2, padding=0, dilation=1, ceil_mode=False)\n",
              "      (11): ReLU()\n",
              "      (12): Conv2d(16, 32, kernel_size=(3, 3), stride=(1, 1), padding=(1, 1))\n",
              "      (13): MaxPool2d(kernel_size=2, stride=2, padding=0, dilation=1, ceil_mode=False)\n",
              "      (14): ReLU()\n",
              "    )\n",
              "    (1): Flatten(start_dim=1, end_dim=-1)\n",
              "    (2): Sequential(\n",
              "      (0): Linear(in_features=32, out_features=16, bias=True)\n",
              "      (1): ReLU()\n",
              "      (2): Linear(in_features=16, out_features=10, bias=True)\n",
              "    )\n",
              "  )\n",
              ")"
            ]
          },
          "metadata": {},
          "execution_count": 23
        }
      ]
    },
    {
      "cell_type": "code",
      "source": [
        "ptch_to_cml_example_input = torch.rand(1, 1, 32, 32)\n",
        "ptch_to_cml_traced_model = torch.jit.trace(torch_model, ptch_to_cml_example_input)"
      ],
      "metadata": {
        "id": "BWoedKLfYJIc"
      },
      "execution_count": null,
      "outputs": []
    },
    {
      "cell_type": "code",
      "source": [
        "!pip install coremltools"
      ],
      "metadata": {
        "colab": {
          "base_uri": "https://localhost:8080/"
        },
        "id": "NoskfbnKYhEC",
        "outputId": "f86ad4fc-4324-41d7-97fc-ae8cc219d27c"
      },
      "execution_count": null,
      "outputs": [
        {
          "output_type": "stream",
          "name": "stdout",
          "text": [
            "Looking in indexes: https://pypi.org/simple, https://us-python.pkg.dev/colab-wheels/public/simple/\n",
            "Collecting coremltools\n",
            "  Downloading coremltools-6.0-cp37-none-manylinux1_x86_64.whl (1.5 MB)\n",
            "\u001b[K     |████████████████████████████████| 1.5 MB 5.1 MB/s \n",
            "\u001b[?25hRequirement already satisfied: sympy in /usr/local/lib/python3.7/dist-packages (from coremltools) (1.7.1)\n",
            "Requirement already satisfied: packaging in /usr/local/lib/python3.7/dist-packages (from coremltools) (21.3)\n",
            "Requirement already satisfied: tqdm in /usr/local/lib/python3.7/dist-packages (from coremltools) (4.64.1)\n",
            "Requirement already satisfied: numpy>=1.14.5 in /usr/local/lib/python3.7/dist-packages (from coremltools) (1.21.6)\n",
            "Requirement already satisfied: protobuf<=3.20.1,>=3.1.0 in /usr/local/lib/python3.7/dist-packages (from coremltools) (3.19.6)\n",
            "Requirement already satisfied: pyparsing!=3.0.5,>=2.0.2 in /usr/local/lib/python3.7/dist-packages (from packaging->coremltools) (3.0.9)\n",
            "Requirement already satisfied: mpmath>=0.19 in /usr/local/lib/python3.7/dist-packages (from sympy->coremltools) (1.2.1)\n",
            "Installing collected packages: coremltools\n",
            "Successfully installed coremltools-6.0\n"
          ]
        }
      ]
    },
    {
      "cell_type": "code",
      "source": [
        "import torch\n",
        "import torchvision\n",
        "import coremltools as ct"
      ],
      "metadata": {
        "colab": {
          "base_uri": "https://localhost:8080/"
        },
        "id": "lvRIONqyYhK2",
        "outputId": "c4d070ca-fbf9-439a-b6e0-455f7f543e62"
      },
      "execution_count": null,
      "outputs": [
        {
          "output_type": "stream",
          "name": "stderr",
          "text": [
            "WARNING:root:TensorFlow version 2.9.2 has not been tested with coremltools. You may run into unexpected errors. TensorFlow 2.8.0 is the most recent version that has been tested.\n"
          ]
        }
      ]
    },
    {
      "cell_type": "code",
      "source": [
        "mlmodel = ct.convert(torch_model, inputs=[ct.ImageType()])"
      ],
      "metadata": {
        "colab": {
          "base_uri": "https://localhost:8080/",
          "height": 409
        },
        "id": "YJrZ7tZSYgya",
        "outputId": "bd296d96-8b37-4022-dba7-6738f0760424"
      },
      "execution_count": null,
      "outputs": [
        {
          "output_type": "error",
          "ename": "ValueError",
          "evalue": "ignored",
          "traceback": [
            "\u001b[0;31m---------------------------------------------------------------------------\u001b[0m",
            "\u001b[0;31mValueError\u001b[0m                                Traceback (most recent call last)",
            "\u001b[0;32m<ipython-input-25-33e34edfdc55>\u001b[0m in \u001b[0;36m<module>\u001b[0;34m\u001b[0m\n\u001b[0;32m----> 1\u001b[0;31m \u001b[0mmlmodel\u001b[0m \u001b[0;34m=\u001b[0m \u001b[0mct\u001b[0m\u001b[0;34m.\u001b[0m\u001b[0mconvert\u001b[0m\u001b[0;34m(\u001b[0m\u001b[0mtorch_model\u001b[0m\u001b[0;34m,\u001b[0m \u001b[0minputs\u001b[0m\u001b[0;34m=\u001b[0m\u001b[0;34m[\u001b[0m\u001b[0mct\u001b[0m\u001b[0;34m.\u001b[0m\u001b[0mImageType\u001b[0m\u001b[0;34m(\u001b[0m\u001b[0;34m)\u001b[0m\u001b[0;34m]\u001b[0m\u001b[0;34m)\u001b[0m\u001b[0;34m\u001b[0m\u001b[0;34m\u001b[0m\u001b[0m\n\u001b[0m",
            "\u001b[0;32m/usr/local/lib/python3.7/dist-packages/coremltools/converters/_converters_entry.py\u001b[0m in \u001b[0;36mconvert\u001b[0;34m(model, source, inputs, outputs, classifier_config, minimum_deployment_target, convert_to, compute_precision, skip_model_load, compute_units, package_dir, debug)\u001b[0m\n\u001b[1;32m    422\u001b[0m                                      \u001b[0moutputs_as_strings\u001b[0m\u001b[0;34m,\u001b[0m\u001b[0;34m\u001b[0m\u001b[0;34m\u001b[0m\u001b[0m\n\u001b[1;32m    423\u001b[0m                                      \u001b[0moutputs_as_tensor_or_image_types\u001b[0m\u001b[0;34m,\u001b[0m\u001b[0;34m\u001b[0m\u001b[0;34m\u001b[0m\u001b[0m\n\u001b[0;32m--> 424\u001b[0;31m                                      outputs)\n\u001b[0m\u001b[1;32m    425\u001b[0m     \u001b[0mexact_target\u001b[0m \u001b[0;34m=\u001b[0m \u001b[0m_determine_target\u001b[0m\u001b[0;34m(\u001b[0m\u001b[0mconvert_to\u001b[0m\u001b[0;34m,\u001b[0m \u001b[0mminimum_deployment_target\u001b[0m\u001b[0;34m)\u001b[0m\u001b[0;34m\u001b[0m\u001b[0;34m\u001b[0m\u001b[0m\n\u001b[1;32m    426\u001b[0m     _validate_conversion_arguments(model, exact_source, inputs, outputs_as_tensor_or_image_types,\n",
            "\u001b[0;32m/usr/local/lib/python3.7/dist-packages/coremltools/converters/_converters_entry.py\u001b[0m in \u001b[0;36m_determine_source\u001b[0;34m(model, source, output_names, outputs_as_tensor_or_image_types, output_argument_as_specified_by_user)\u001b[0m\n\u001b[1;32m    748\u001b[0m         \u001b[0;34m\"you have `tensorflow==1.14` installed.\"\u001b[0m\u001b[0;34m\u001b[0m\u001b[0;34m\u001b[0m\u001b[0m\n\u001b[1;32m    749\u001b[0m     )\n\u001b[0;32m--> 750\u001b[0;31m     \u001b[0;32mraise\u001b[0m \u001b[0mValueError\u001b[0m\u001b[0;34m(\u001b[0m\u001b[0mmsg\u001b[0m\u001b[0;34m)\u001b[0m\u001b[0;34m\u001b[0m\u001b[0;34m\u001b[0m\u001b[0m\n\u001b[0m\u001b[1;32m    751\u001b[0m \u001b[0;34m\u001b[0m\u001b[0m\n\u001b[1;32m    752\u001b[0m \u001b[0;32mdef\u001b[0m \u001b[0m_determine_target\u001b[0m\u001b[0;34m(\u001b[0m\u001b[0mconvert_to\u001b[0m\u001b[0;34m,\u001b[0m \u001b[0mminimum_deployment_target\u001b[0m\u001b[0;34m)\u001b[0m\u001b[0;34m:\u001b[0m\u001b[0;34m\u001b[0m\u001b[0;34m\u001b[0m\u001b[0m\n",
            "\u001b[0;31mValueError\u001b[0m: Unable to determine the type of the model, i.e. the source framework. Please provide the value of argument \"source\", from one of [\"tensorflow\", \"pytorch\", \"milinternal\"]. Note that model conversion requires the source package that generates the model. Please make sure you have the appropriate version of source package installed. E.g., if you're converting model originally trained with TensorFlow 1.14, make sure you have `tensorflow==1.14` installed."
          ]
        }
      ]
    },
    {
      "cell_type": "code",
      "source": [
        "print(mlmodel)"
      ],
      "metadata": {
        "colab": {
          "base_uri": "https://localhost:8080/"
        },
        "id": "ZjF5eFSyY5At",
        "outputId": "b82685a0-02cd-4502-9344-b30cfa199536"
      },
      "execution_count": null,
      "outputs": [
        {
          "output_type": "stream",
          "name": "stdout",
          "text": [
            "input {\n",
            "  name: \"input_1\"\n",
            "  type {\n",
            "    multiArrayType {\n",
            "      shape: 1\n",
            "      shape: 1\n",
            "      shape: 32\n",
            "      shape: 32\n",
            "      dataType: FLOAT32\n",
            "    }\n",
            "  }\n",
            "}\n",
            "output {\n",
            "  name: \"var_108\"\n",
            "  type {\n",
            "    multiArrayType {\n",
            "      dataType: FLOAT32\n",
            "    }\n",
            "  }\n",
            "}\n",
            "metadata {\n",
            "  userDefined {\n",
            "    key: \"com.github.apple.coremltools.source\"\n",
            "    value: \"torch==1.12.1+cu113\"\n",
            "  }\n",
            "  userDefined {\n",
            "    key: \"com.github.apple.coremltools.version\"\n",
            "    value: \"6.0\"\n",
            "  }\n",
            "}\n",
            "\n"
          ]
        }
      ]
    },
    {
      "cell_type": "code",
      "source": [
        "mlmodel.save(\"./drive/MyDrive/capstone.mlmodel\")"
      ],
      "metadata": {
        "id": "hgWqKq9MY5YF"
      },
      "execution_count": null,
      "outputs": []
    }
  ],
  "metadata": {
    "kernelspec": {
      "display_name": "Python 3.7.6 ('base')",
      "language": "python",
      "name": "python3"
    },
    "language_info": {
      "codemirror_mode": {
        "name": "ipython",
        "version": 3
      },
      "file_extension": ".py",
      "mimetype": "text/x-python",
      "name": "python",
      "nbconvert_exporter": "python",
      "pygments_lexer": "ipython3",
      "version": "3.7.6"
    },
    "metadata": {
      "interpreter": {
        "hash": "31f2aee4e71d21fbe5cf8b01ff0e069b9275f58929596ceb00d14d90e3e16cd6"
      }
    },
    "vscode": {
      "interpreter": {
        "hash": "936d8260778fd5e616cf4743245910e0749a09bc88b1fefa5a1bd6bde9340953"
      }
    },
    "colab": {
      "provenance": [],
      "collapsed_sections": []
    },
    "accelerator": "GPU",
    "gpuClass": "standard"
  },
  "nbformat": 4,
  "nbformat_minor": 0
}